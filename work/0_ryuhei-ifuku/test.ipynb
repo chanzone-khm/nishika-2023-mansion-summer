{
 "cells": [
  {
   "cell_type": "code",
   "execution_count": 1,
   "id": "35a39c6f-998b-46f3-b5b4-a0f0dd7f4192",
   "metadata": {},
   "outputs": [],
   "source": [
    "import pandas as pd"
   ]
  },
  {
   "cell_type": "code",
   "execution_count": 2,
   "id": "cb8b006e-2b68-4239-901a-59ebf0e7ed70",
   "metadata": {},
   "outputs": [
    {
     "name": "stdout",
     "output_type": "stream",
     "text": [
      "\u001b[0m\u001b[34;42m.\u001b[0m/  \u001b[34;42m..\u001b[0m/  \u001b[01;34m.ipynb_checkpoints\u001b[0m/  \u001b[34;42msweetviz_settings\u001b[0m/  \u001b[01;32mtest.ipynb\u001b[0m*\n"
     ]
    }
   ],
   "source": [
    "ls -a"
   ]
  },
  {
   "cell_type": "code",
   "execution_count": 3,
   "id": "993e5815-3a52-43ce-9ecc-53126ee6ee65",
   "metadata": {},
   "outputs": [
    {
     "name": "stdout",
     "output_type": "stream",
     "text": [
      "/work\n"
     ]
    }
   ],
   "source": [
    "cd ../"
   ]
  },
  {
   "cell_type": "code",
   "execution_count": 4,
   "id": "2be56921-b361-4249-8135-e0a139755123",
   "metadata": {},
   "outputs": [
    {
     "name": "stdout",
     "output_type": "stream",
     "text": [
      "\u001b[0m\u001b[34;42m.\u001b[0m/   \u001b[34;42m.git\u001b[0m/        \u001b[01;32mDockerfile\u001b[0m*  \u001b[01;32mdocker-compose.yml\u001b[0m*\n",
      "\u001b[01;34m..\u001b[0m/  \u001b[01;32m.gitignore\u001b[0m*  \u001b[01;32mREADME.md\u001b[0m*   \u001b[34;42mwork\u001b[0m/\n"
     ]
    }
   ],
   "source": [
    "ls -a"
   ]
  },
  {
   "cell_type": "code",
   "execution_count": 5,
   "id": "719ace87-8c63-4c6f-9df0-ddf7e0dab49d",
   "metadata": {},
   "outputs": [
    {
     "data": {
      "text/plain": [
       "'/work'"
      ]
     },
     "execution_count": 5,
     "metadata": {},
     "output_type": "execute_result"
    }
   ],
   "source": [
    "pwd\n"
   ]
  },
  {
   "cell_type": "code",
   "execution_count": null,
   "id": "c873be9f-72cb-435c-a4d0-26c9874d60fe",
   "metadata": {},
   "outputs": [],
   "source": []
  }
 ],
 "metadata": {
  "kernelspec": {
   "display_name": "Python 3 (ipykernel)",
   "language": "python",
   "name": "python3"
  },
  "language_info": {
   "codemirror_mode": {
    "name": "ipython",
    "version": 3
   },
   "file_extension": ".py",
   "mimetype": "text/x-python",
   "name": "python",
   "nbconvert_exporter": "python",
   "pygments_lexer": "ipython3",
   "version": "3.9.12"
  }
 },
 "nbformat": 4,
 "nbformat_minor": 5
}
